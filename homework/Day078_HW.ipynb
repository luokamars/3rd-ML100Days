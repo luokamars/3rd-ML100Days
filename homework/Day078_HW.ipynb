{
 "cells": [
  {
   "cell_type": "markdown",
   "metadata": {},
   "source": [
    "## Work\n",
    "1. 請嘗試將 preproc_x 替換成以每筆資料的 min/max 進行標準化至 -1 ~ 1 間，再進行訓練\n",
    "2. 請嘗試將 mlp 疊更深 (e.g 5~10 層)，進行訓練後觀察 learning curve 的走勢\n",
    "3. (optional) 請改用 GPU 進行訓練 (如果你有 GPU 的話)，比較使用 CPU 與 GPU 的訓練速度"
   ]
  },
  {
   "cell_type": "code",
   "execution_count": 1,
   "metadata": {},
   "outputs": [
    {
     "data": {
      "text/plain": [
       "'\\nYour code here (optional)\\n確認硬體資源\\n'"
      ]
     },
     "execution_count": 1,
     "metadata": {},
     "output_type": "execute_result"
    }
   ],
   "source": [
    "## \n",
    "\"\"\"\n",
    "Your code here (optional)\n",
    "確認硬體資源\n",
    "\"\"\"\n"
   ]
  },
  {
   "cell_type": "code",
   "execution_count": 2,
   "metadata": {},
   "outputs": [
    {
     "name": "stderr",
     "output_type": "stream",
     "text": [
      "Using TensorFlow backend.\n"
     ]
    }
   ],
   "source": [
    "import os\n",
    "import keras\n",
    "import numpy\n",
    "\n",
    "# 請嘗試設定 GPU：os.environ\n"
   ]
  },
  {
   "cell_type": "code",
   "execution_count": 3,
   "metadata": {},
   "outputs": [],
   "source": [
    "train, test = keras.datasets.cifar10.load_data()"
   ]
  },
  {
   "cell_type": "code",
   "execution_count": 4,
   "metadata": {},
   "outputs": [],
   "source": [
    "## 資料前處理\n",
    "## 資料前處理\n",
    "## 資料前處理\n",
    "def preproc_x(x,flatten=True):\n",
    "    x = (x-numpy.mean(x)) / 255.\n",
    "    if flatten:\n",
    "        x = x.reshape((len(x), -1))\n",
    "    return x\n",
    "\n",
    "def preproc_y(y, num_classes=10):\n",
    "    if y.shape[-1] == 1:\n",
    "        y = keras.utils.to_categorical(y, num_classes)\n",
    "    return y    "
   ]
  },
  {
   "cell_type": "code",
   "execution_count": 5,
   "metadata": {},
   "outputs": [],
   "source": [
    "x_train, y_train = train\n",
    "x_test, y_test = test\n",
    "\n",
    "# Preproc the inputs\n",
    "x_train = preproc_x(x_train)\n",
    "x_test = preproc_x(x_test)\n",
    "\n",
    "# Preprc the outputs\n",
    "y_train = preproc_y(y_train)\n",
    "y_test = preproc_y(y_test)\n",
    "\n"
   ]
  },
  {
   "cell_type": "code",
   "execution_count": 6,
   "metadata": {},
   "outputs": [],
   "source": [
    "def build_mlp(input_shape, output_units=10, num_neurons=[512, 512, 256, 256, 128 , 128 ,64]):\n",
    "    input_layer = keras.layers.Input(input_shape)\n",
    "    \n",
    "    for i, n_units in enumerate(num_neurons):\n",
    "        if i == 0:\n",
    "            x = keras.layers.Dense(units=n_units, activation=\"relu\", name=\"hidden_layer\"+str(i+1))(input_layer)\n",
    "        else:\n",
    "            x = keras.layers.Dense(units=n_units, activation=\"relu\", name=\"hidden_layer\"+str(i+1))(x)\n",
    "    \n",
    "    out = keras.layers.Dense(units=output_units, activation=\"softmax\", name=\"output\")(x)\n",
    "    \n",
    "    model = keras.models.Model(inputs=[input_layer], outputs=[out])\n",
    "    return model\n",
    "\n"
   ]
  },
  {
   "cell_type": "code",
   "execution_count": 7,
   "metadata": {},
   "outputs": [
    {
     "name": "stdout",
     "output_type": "stream",
     "text": [
      "Model: \"model_1\"\n",
      "_________________________________________________________________\n",
      "Layer (type)                 Output Shape              Param #   \n",
      "=================================================================\n",
      "input_1 (InputLayer)         (None, 3072)              0         \n",
      "_________________________________________________________________\n",
      "hidden_layer1 (Dense)        (None, 512)               1573376   \n",
      "_________________________________________________________________\n",
      "hidden_layer2 (Dense)        (None, 512)               262656    \n",
      "_________________________________________________________________\n",
      "hidden_layer3 (Dense)        (None, 256)               131328    \n",
      "_________________________________________________________________\n",
      "hidden_layer4 (Dense)        (None, 256)               65792     \n",
      "_________________________________________________________________\n",
      "hidden_layer5 (Dense)        (None, 128)               32896     \n",
      "_________________________________________________________________\n",
      "hidden_layer6 (Dense)        (None, 128)               16512     \n",
      "_________________________________________________________________\n",
      "hidden_layer7 (Dense)        (None, 64)                8256      \n",
      "_________________________________________________________________\n",
      "output (Dense)               (None, 10)                650       \n",
      "=================================================================\n",
      "Total params: 2,091,466\n",
      "Trainable params: 2,091,466\n",
      "Non-trainable params: 0\n",
      "_________________________________________________________________\n"
     ]
    }
   ],
   "source": [
    "model = build_mlp(input_shape=x_train.shape[1:])\n",
    "model.summary()"
   ]
  },
  {
   "cell_type": "code",
   "execution_count": 8,
   "metadata": {},
   "outputs": [],
   "source": [
    "## 超參數設定\n",
    "LEARNING_RATE = 0.001\n",
    "EPOCHS = 100\n",
    "BATCH_SIZE = 256"
   ]
  },
  {
   "cell_type": "code",
   "execution_count": 9,
   "metadata": {},
   "outputs": [],
   "source": [
    "optimizer = keras.optimizers.Adam(lr=LEARNING_RATE)\n",
    "model.compile(loss=\"categorical_crossentropy\", metrics=[\"accuracy\"], optimizer=optimizer)"
   ]
  },
  {
   "cell_type": "code",
   "execution_count": 10,
   "metadata": {},
   "outputs": [
    {
     "name": "stdout",
     "output_type": "stream",
     "text": [
      "Train on 50000 samples, validate on 10000 samples\n",
      "Epoch 1/100\n",
      "50000/50000 [==============================] - 26s 516us/step - loss: 1.7149 - accuracy: 0.3847 - val_loss: 1.5166 - val_accuracy: 0.4669\n",
      "Epoch 2/100\n",
      "50000/50000 [==============================] - 14s 287us/step - loss: 1.4636 - accuracy: 0.4813 - val_loss: 1.4170 - val_accuracy: 0.4921\n",
      "Epoch 3/100\n",
      "50000/50000 [==============================] - 14s 284us/step - loss: 1.3322 - accuracy: 0.5283 - val_loss: 1.3809 - val_accuracy: 0.5065\n",
      "Epoch 4/100\n",
      "50000/50000 [==============================] - 14s 272us/step - loss: 1.2322 - accuracy: 0.5658 - val_loss: 1.3277 - val_accuracy: 0.5318\n",
      "Epoch 5/100\n",
      "50000/50000 [==============================] - 14s 271us/step - loss: 1.1363 - accuracy: 0.5981 - val_loss: 1.3442 - val_accuracy: 0.5263\n",
      "Epoch 6/100\n",
      "50000/50000 [==============================] - 14s 275us/step - loss: 1.0444 - accuracy: 0.6325 - val_loss: 1.3186 - val_accuracy: 0.5452\n",
      "Epoch 7/100\n",
      "50000/50000 [==============================] - 14s 277us/step - loss: 0.9628 - accuracy: 0.6607 - val_loss: 1.3508 - val_accuracy: 0.5365\n",
      "Epoch 8/100\n",
      "50000/50000 [==============================] - 14s 275us/step - loss: 0.8843 - accuracy: 0.6837 - val_loss: 1.3914 - val_accuracy: 0.5529\n",
      "Epoch 9/100\n",
      "50000/50000 [==============================] - 14s 274us/step - loss: 0.8031 - accuracy: 0.7155 - val_loss: 1.4533 - val_accuracy: 0.5418\n",
      "Epoch 10/100\n",
      "50000/50000 [==============================] - 14s 271us/step - loss: 0.7264 - accuracy: 0.7431 - val_loss: 1.4288 - val_accuracy: 0.5474\n",
      "Epoch 11/100\n",
      "50000/50000 [==============================] - 14s 273us/step - loss: 0.6432 - accuracy: 0.7705 - val_loss: 1.5471 - val_accuracy: 0.5458\n",
      "Epoch 12/100\n",
      "50000/50000 [==============================] - 14s 274us/step - loss: 0.5915 - accuracy: 0.7904 - val_loss: 1.6141 - val_accuracy: 0.5387\n",
      "Epoch 13/100\n",
      "50000/50000 [==============================] - 15s 295us/step - loss: 0.5138 - accuracy: 0.8182 - val_loss: 1.7401 - val_accuracy: 0.5423\n",
      "Epoch 14/100\n",
      "50000/50000 [==============================] - 14s 280us/step - loss: 0.4574 - accuracy: 0.8388 - val_loss: 1.8847 - val_accuracy: 0.5377\n",
      "Epoch 15/100\n",
      "50000/50000 [==============================] - 14s 272us/step - loss: 0.4197 - accuracy: 0.8524 - val_loss: 1.9162 - val_accuracy: 0.5382\n",
      "Epoch 16/100\n",
      "50000/50000 [==============================] - 14s 278us/step - loss: 0.3825 - accuracy: 0.8653 - val_loss: 1.9801 - val_accuracy: 0.5424\n",
      "Epoch 17/100\n",
      "50000/50000 [==============================] - 14s 273us/step - loss: 0.3420 - accuracy: 0.8781 - val_loss: 2.0840 - val_accuracy: 0.5294\n",
      "Epoch 18/100\n",
      "50000/50000 [==============================] - 14s 273us/step - loss: 0.2991 - accuracy: 0.8959 - val_loss: 2.2249 - val_accuracy: 0.5325\n",
      "Epoch 19/100\n",
      "50000/50000 [==============================] - 13s 270us/step - loss: 0.2756 - accuracy: 0.9033 - val_loss: 2.2699 - val_accuracy: 0.5329\n",
      "Epoch 20/100\n",
      "50000/50000 [==============================] - 14s 275us/step - loss: 0.2460 - accuracy: 0.9151 - val_loss: 2.3426 - val_accuracy: 0.5334\n",
      "Epoch 21/100\n",
      "50000/50000 [==============================] - 14s 290us/step - loss: 0.2508 - accuracy: 0.9125 - val_loss: 2.4042 - val_accuracy: 0.5381\n",
      "Epoch 22/100\n",
      "50000/50000 [==============================] - 14s 283us/step - loss: 0.2127 - accuracy: 0.9256 - val_loss: 2.4852 - val_accuracy: 0.5291\n",
      "Epoch 23/100\n",
      "50000/50000 [==============================] - 15s 291us/step - loss: 0.2045 - accuracy: 0.9301 - val_loss: 2.6637 - val_accuracy: 0.5319\n",
      "Epoch 24/100\n",
      "50000/50000 [==============================] - 14s 280us/step - loss: 0.1827 - accuracy: 0.9374 - val_loss: 2.6134 - val_accuracy: 0.5372\n",
      "Epoch 25/100\n",
      "50000/50000 [==============================] - 14s 282us/step - loss: 0.1864 - accuracy: 0.9366 - val_loss: 2.6464 - val_accuracy: 0.5360\n",
      "Epoch 26/100\n",
      "50000/50000 [==============================] - 14s 283us/step - loss: 0.1748 - accuracy: 0.9403 - val_loss: 2.6910 - val_accuracy: 0.5353\n",
      "Epoch 27/100\n",
      "50000/50000 [==============================] - 15s 290us/step - loss: 0.1587 - accuracy: 0.9464 - val_loss: 2.7646 - val_accuracy: 0.5294\n",
      "Epoch 28/100\n",
      "50000/50000 [==============================] - 14s 286us/step - loss: 0.1462 - accuracy: 0.9497 - val_loss: 2.9332 - val_accuracy: 0.5364\n",
      "Epoch 29/100\n",
      "50000/50000 [==============================] - 14s 283us/step - loss: 0.1428 - accuracy: 0.9522 - val_loss: 2.8947 - val_accuracy: 0.5340\n",
      "Epoch 30/100\n",
      "50000/50000 [==============================] - 14s 286us/step - loss: 0.1359 - accuracy: 0.9540 - val_loss: 2.9605 - val_accuracy: 0.5400\n",
      "Epoch 31/100\n",
      "50000/50000 [==============================] - 14s 284us/step - loss: 0.1304 - accuracy: 0.9559 - val_loss: 3.0209 - val_accuracy: 0.5377\n",
      "Epoch 32/100\n",
      "50000/50000 [==============================] - 14s 288us/step - loss: 0.1364 - accuracy: 0.9540 - val_loss: 2.9805 - val_accuracy: 0.5397\n",
      "Epoch 33/100\n",
      "50000/50000 [==============================] - 14s 279us/step - loss: 0.1241 - accuracy: 0.9575 - val_loss: 2.9528 - val_accuracy: 0.5362\n",
      "Epoch 34/100\n",
      "50000/50000 [==============================] - 14s 281us/step - loss: 0.1084 - accuracy: 0.9638 - val_loss: 3.2112 - val_accuracy: 0.5305\n",
      "Epoch 35/100\n",
      "50000/50000 [==============================] - 14s 278us/step - loss: 0.1243 - accuracy: 0.9592 - val_loss: 2.9044 - val_accuracy: 0.5330\n",
      "Epoch 36/100\n",
      "50000/50000 [==============================] - 14s 282us/step - loss: 0.1183 - accuracy: 0.9607 - val_loss: 2.9736 - val_accuracy: 0.5272\n",
      "Epoch 37/100\n",
      "50000/50000 [==============================] - 14s 275us/step - loss: 0.1105 - accuracy: 0.9631 - val_loss: 2.9838 - val_accuracy: 0.5399\n",
      "Epoch 38/100\n",
      "50000/50000 [==============================] - 14s 284us/step - loss: 0.0963 - accuracy: 0.9672 - val_loss: 3.2275 - val_accuracy: 0.5357\n",
      "Epoch 39/100\n",
      "50000/50000 [==============================] - 14s 280us/step - loss: 0.0987 - accuracy: 0.9673 - val_loss: 3.2730 - val_accuracy: 0.5358\n",
      "Epoch 40/100\n",
      "50000/50000 [==============================] - 14s 280us/step - loss: 0.1035 - accuracy: 0.9660 - val_loss: 2.9934 - val_accuracy: 0.5305\n",
      "Epoch 41/100\n",
      "50000/50000 [==============================] - 14s 278us/step - loss: 0.0983 - accuracy: 0.9669 - val_loss: 3.1708 - val_accuracy: 0.5347\n",
      "Epoch 42/100\n",
      "50000/50000 [==============================] - 13s 268us/step - loss: 0.0941 - accuracy: 0.9683 - val_loss: 3.2468 - val_accuracy: 0.5392\n",
      "Epoch 43/100\n",
      "50000/50000 [==============================] - 14s 273us/step - loss: 0.0928 - accuracy: 0.9698 - val_loss: 3.1742 - val_accuracy: 0.5253\n",
      "Epoch 44/100\n",
      "50000/50000 [==============================] - 13s 270us/step - loss: 0.0963 - accuracy: 0.9685 - val_loss: 3.1459 - val_accuracy: 0.5346\n",
      "Epoch 45/100\n",
      "50000/50000 [==============================] - 14s 272us/step - loss: 0.0892 - accuracy: 0.9712 - val_loss: 3.3414 - val_accuracy: 0.5366\n",
      "Epoch 46/100\n",
      "50000/50000 [==============================] - 13s 269us/step - loss: 0.0879 - accuracy: 0.9712 - val_loss: 3.1844 - val_accuracy: 0.5408\n",
      "Epoch 47/100\n",
      "50000/50000 [==============================] - 14s 273us/step - loss: 0.0885 - accuracy: 0.9712 - val_loss: 2.9870 - val_accuracy: 0.5319\n",
      "Epoch 48/100\n",
      "50000/50000 [==============================] - 14s 272us/step - loss: 0.0867 - accuracy: 0.9716 - val_loss: 3.1321 - val_accuracy: 0.5282\n",
      "Epoch 49/100\n",
      "50000/50000 [==============================] - 14s 273us/step - loss: 0.0885 - accuracy: 0.9714 - val_loss: 3.1441 - val_accuracy: 0.5354\n",
      "Epoch 50/100\n",
      "50000/50000 [==============================] - 14s 275us/step - loss: 0.0824 - accuracy: 0.9729 - val_loss: 3.4039 - val_accuracy: 0.5342\n",
      "Epoch 51/100\n",
      "50000/50000 [==============================] - 14s 287us/step - loss: 0.0763 - accuracy: 0.9752 - val_loss: 3.2657 - val_accuracy: 0.5396\n",
      "Epoch 52/100\n",
      "50000/50000 [==============================] - 14s 286us/step - loss: 0.0803 - accuracy: 0.9741 - val_loss: 3.4485 - val_accuracy: 0.5302\n",
      "Epoch 53/100\n",
      "50000/50000 [==============================] - 14s 273us/step - loss: 0.0848 - accuracy: 0.9723 - val_loss: 3.1143 - val_accuracy: 0.5367\n",
      "Epoch 54/100\n",
      "50000/50000 [==============================] - 14s 272us/step - loss: 0.0739 - accuracy: 0.9762 - val_loss: 3.3572 - val_accuracy: 0.5397\n"
     ]
    },
    {
     "name": "stdout",
     "output_type": "stream",
     "text": [
      "Epoch 55/100\n",
      "50000/50000 [==============================] - 14s 271us/step - loss: 0.0767 - accuracy: 0.9754 - val_loss: 3.2598 - val_accuracy: 0.5388\n",
      "Epoch 56/100\n",
      "50000/50000 [==============================] - 13s 269us/step - loss: 0.0663 - accuracy: 0.9787 - val_loss: 3.1815 - val_accuracy: 0.5380\n",
      "Epoch 57/100\n",
      "50000/50000 [==============================] - 14s 272us/step - loss: 0.0807 - accuracy: 0.9747 - val_loss: 3.2002 - val_accuracy: 0.5334\n",
      "Epoch 58/100\n",
      "50000/50000 [==============================] - 13s 269us/step - loss: 0.0712 - accuracy: 0.9770 - val_loss: 3.3238 - val_accuracy: 0.5294\n",
      "Epoch 59/100\n",
      "50000/50000 [==============================] - 14s 272us/step - loss: 0.0690 - accuracy: 0.9773 - val_loss: 3.4109 - val_accuracy: 0.5326\n",
      "Epoch 60/100\n",
      "50000/50000 [==============================] - 13s 267us/step - loss: 0.0732 - accuracy: 0.9764 - val_loss: 3.3193 - val_accuracy: 0.5293\n",
      "Epoch 61/100\n",
      "50000/50000 [==============================] - 14s 272us/step - loss: 0.0749 - accuracy: 0.9757 - val_loss: 3.4840 - val_accuracy: 0.5368\n",
      "Epoch 62/100\n",
      "50000/50000 [==============================] - 13s 270us/step - loss: 0.0694 - accuracy: 0.9774 - val_loss: 3.3240 - val_accuracy: 0.5341\n",
      "Epoch 63/100\n",
      "50000/50000 [==============================] - 13s 269us/step - loss: 0.0697 - accuracy: 0.9778 - val_loss: 3.4148 - val_accuracy: 0.5334\n",
      "Epoch 64/100\n",
      "50000/50000 [==============================] - 13s 269us/step - loss: 0.0722 - accuracy: 0.9771 - val_loss: 3.2511 - val_accuracy: 0.5372\n",
      "Epoch 65/100\n",
      "50000/50000 [==============================] - 13s 267us/step - loss: 0.0629 - accuracy: 0.9795 - val_loss: 3.2875 - val_accuracy: 0.5370\n",
      "Epoch 66/100\n",
      "50000/50000 [==============================] - 13s 267us/step - loss: 0.0537 - accuracy: 0.9832 - val_loss: 3.4394 - val_accuracy: 0.5431\n",
      "Epoch 67/100\n",
      "50000/50000 [==============================] - 13s 267us/step - loss: 0.0590 - accuracy: 0.9818 - val_loss: 3.4879 - val_accuracy: 0.5351\n",
      "Epoch 68/100\n",
      "50000/50000 [==============================] - 14s 272us/step - loss: 0.0618 - accuracy: 0.9805 - val_loss: 3.3714 - val_accuracy: 0.5312\n",
      "Epoch 69/100\n",
      "50000/50000 [==============================] - 13s 267us/step - loss: 0.0626 - accuracy: 0.9800 - val_loss: 3.5228 - val_accuracy: 0.5329\n",
      "Epoch 70/100\n",
      "50000/50000 [==============================] - 13s 269us/step - loss: 0.0595 - accuracy: 0.9812 - val_loss: 3.3054 - val_accuracy: 0.5304\n",
      "Epoch 71/100\n",
      "50000/50000 [==============================] - 13s 264us/step - loss: 0.0545 - accuracy: 0.9830 - val_loss: 3.5478 - val_accuracy: 0.5362\n",
      "Epoch 72/100\n",
      "50000/50000 [==============================] - 13s 267us/step - loss: 0.0613 - accuracy: 0.9805 - val_loss: 3.6861 - val_accuracy: 0.5310\n",
      "Epoch 73/100\n",
      "50000/50000 [==============================] - 13s 267us/step - loss: 0.0592 - accuracy: 0.9815 - val_loss: 3.4488 - val_accuracy: 0.5342\n",
      "Epoch 74/100\n",
      "50000/50000 [==============================] - 13s 270us/step - loss: 0.0637 - accuracy: 0.9800 - val_loss: 3.4912 - val_accuracy: 0.5339\n",
      "Epoch 75/100\n",
      "50000/50000 [==============================] - 13s 266us/step - loss: 0.0596 - accuracy: 0.9810 - val_loss: 3.3722 - val_accuracy: 0.5385\n",
      "Epoch 76/100\n",
      "50000/50000 [==============================] - 14s 276us/step - loss: 0.0500 - accuracy: 0.9844 - val_loss: 3.4764 - val_accuracy: 0.5369\n",
      "Epoch 77/100\n",
      "50000/50000 [==============================] - 13s 269us/step - loss: 0.0528 - accuracy: 0.9828 - val_loss: 3.7509 - val_accuracy: 0.5365\n",
      "Epoch 78/100\n",
      "50000/50000 [==============================] - 13s 264us/step - loss: 0.0625 - accuracy: 0.9791 - val_loss: 3.3741 - val_accuracy: 0.5380\n",
      "Epoch 79/100\n",
      "50000/50000 [==============================] - 13s 269us/step - loss: 0.0601 - accuracy: 0.9812 - val_loss: 3.4580 - val_accuracy: 0.5283\n",
      "Epoch 80/100\n",
      "50000/50000 [==============================] - 13s 267us/step - loss: 0.0581 - accuracy: 0.9819 - val_loss: 3.3935 - val_accuracy: 0.5345\n",
      "Epoch 81/100\n",
      "50000/50000 [==============================] - 13s 269us/step - loss: 0.0560 - accuracy: 0.9819 - val_loss: 3.5398 - val_accuracy: 0.5394\n",
      "Epoch 82/100\n",
      "50000/50000 [==============================] - 13s 265us/step - loss: 0.0484 - accuracy: 0.9843 - val_loss: 3.6728 - val_accuracy: 0.5367\n",
      "Epoch 83/100\n",
      "50000/50000 [==============================] - 13s 268us/step - loss: 0.0599 - accuracy: 0.9807 - val_loss: 3.4833 - val_accuracy: 0.5348\n",
      "Epoch 84/100\n",
      "50000/50000 [==============================] - 14s 275us/step - loss: 0.0496 - accuracy: 0.9842 - val_loss: 3.4049 - val_accuracy: 0.5388\n",
      "Epoch 85/100\n",
      "50000/50000 [==============================] - 13s 266us/step - loss: 0.0385 - accuracy: 0.9881 - val_loss: 3.7995 - val_accuracy: 0.5313\n",
      "Epoch 86/100\n",
      "50000/50000 [==============================] - 13s 269us/step - loss: 0.0539 - accuracy: 0.9827 - val_loss: 3.7117 - val_accuracy: 0.5357\n",
      "Epoch 87/100\n",
      "50000/50000 [==============================] - 13s 269us/step - loss: 0.0521 - accuracy: 0.9835 - val_loss: 3.5910 - val_accuracy: 0.5363\n",
      "Epoch 88/100\n",
      "50000/50000 [==============================] - 14s 270us/step - loss: 0.0599 - accuracy: 0.9814 - val_loss: 3.4290 - val_accuracy: 0.5381\n",
      "Epoch 89/100\n",
      "50000/50000 [==============================] - 13s 264us/step - loss: 0.0525 - accuracy: 0.9833 - val_loss: 3.3728 - val_accuracy: 0.5408\n",
      "Epoch 90/100\n",
      "50000/50000 [==============================] - 13s 268us/step - loss: 0.0492 - accuracy: 0.9843 - val_loss: 3.5351 - val_accuracy: 0.5344\n",
      "Epoch 91/100\n",
      "50000/50000 [==============================] - 13s 266us/step - loss: 0.0466 - accuracy: 0.9855 - val_loss: 3.4651 - val_accuracy: 0.5355\n",
      "Epoch 92/100\n",
      "50000/50000 [==============================] - 14s 270us/step - loss: 0.0460 - accuracy: 0.9861 - val_loss: 3.4678 - val_accuracy: 0.5334\n",
      "Epoch 93/100\n",
      "50000/50000 [==============================] - 13s 268us/step - loss: 0.0463 - accuracy: 0.9854 - val_loss: 3.7936 - val_accuracy: 0.5381\n",
      "Epoch 94/100\n",
      "50000/50000 [==============================] - 14s 271us/step - loss: 0.0441 - accuracy: 0.9863 - val_loss: 3.5602 - val_accuracy: 0.5409\n",
      "Epoch 95/100\n",
      "50000/50000 [==============================] - 14s 272us/step - loss: 0.0495 - accuracy: 0.9843 - val_loss: 3.5587 - val_accuracy: 0.5338\n",
      "Epoch 96/100\n",
      "50000/50000 [==============================] - 13s 265us/step - loss: 0.0516 - accuracy: 0.9846 - val_loss: 3.3632 - val_accuracy: 0.5444\n",
      "Epoch 97/100\n",
      "50000/50000 [==============================] - 13s 269us/step - loss: 0.0487 - accuracy: 0.9849 - val_loss: 3.2799 - val_accuracy: 0.5328\n",
      "Epoch 98/100\n",
      "50000/50000 [==============================] - 13s 267us/step - loss: 0.0433 - accuracy: 0.9868 - val_loss: 3.5370 - val_accuracy: 0.5341\n",
      "Epoch 99/100\n",
      "50000/50000 [==============================] - 14s 271us/step - loss: 0.0392 - accuracy: 0.9882 - val_loss: 3.3904 - val_accuracy: 0.5366\n",
      "Epoch 100/100\n",
      "50000/50000 [==============================] - 13s 267us/step - loss: 0.0465 - accuracy: 0.9852 - val_loss: 3.5803 - val_accuracy: 0.5333\n"
     ]
    },
    {
     "data": {
      "text/plain": [
       "<keras.callbacks.callbacks.History at 0x21177227518>"
      ]
     },
     "execution_count": 10,
     "metadata": {},
     "output_type": "execute_result"
    }
   ],
   "source": [
    "model.fit(x_train, y_train, \n",
    "          epochs=EPOCHS, \n",
    "          batch_size=BATCH_SIZE, \n",
    "          validation_data=(x_test, y_test), \n",
    "          shuffle=True)"
   ]
  },
  {
   "cell_type": "code",
   "execution_count": 12,
   "metadata": {},
   "outputs": [
    {
     "data": {
      "image/png": "[encoded data removed]",
      "text/plain": [
       "<Figure size 432x288 with 1 Axes>"
      ]
     },
     "metadata": {
      "needs_background": "light"
     },
     "output_type": "display_data"
    },
    {
     "data": {
      "image/png": "[encoded data removed]",
      "text/plain": [
       "<Figure size 432x288 with 1 Axes>"
      ]
     },
     "metadata": {
      "needs_background": "light"
     },
     "output_type": "display_data"
    }
   ],
   "source": [
    "import matplotlib.pyplot as plt\n",
    "\n",
    "\n",
    "train_loss = model.history.history[\"loss\"]\n",
    "valid_loss = model.history.history[\"val_loss\"]\n",
    "\n",
    "train_acc = model.history.history[\"accuracy\"]\n",
    "valid_acc = model.history.history[\"val_accuracy\"]\n",
    "\n",
    "plt.plot(range(len(train_loss)), train_loss, label=\"train loss\")\n",
    "plt.plot(range(len(valid_loss)), valid_loss, label=\"valid loss\")\n",
    "plt.legend()\n",
    "plt.title(\"Loss\")\n",
    "plt.show()\n",
    "\n",
    "plt.plot(range(len(train_acc)), train_acc, label=\"train accuracy\")\n",
    "plt.plot(range(len(valid_acc)), valid_acc, label=\"valid accuracy\")\n",
    "plt.legend()\n",
    "plt.title(\"Accuracy\")\n",
    "plt.show()"
   ]
  }
 ],
 "metadata": {
  "kernelspec": {
   "display_name": "Python 3",
   "language": "python",
   "name": "python3"
  },
  "language_info": {
   "codemirror_mode": {
    "name": "ipython",
    "version": 3
   },
   "file_extension": ".py",
   "mimetype": "text/x-python",
   "name": "python",
   "nbconvert_exporter": "python",
   "pygments_lexer": "ipython3",
   "version": "3.7.3"
  }
 },
 "nbformat": 4,
 "nbformat_minor": 2
}
