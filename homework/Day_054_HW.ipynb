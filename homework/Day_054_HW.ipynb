{
 "cells": [
  {
   "cell_type": "markdown",
   "metadata": {},
   "source": [
    "# 作業\n",
    "* 試著想想看, 非監督學習是否有可能使用評價函數 (Metric) 來鑑別好壞呢?  \n",
    "(Hint : 可以分為 \"有目標值\" 與 \"無目標值\" 兩個方向思考)\n",
    "\n",
    "\n",
    "無目標值:\n",
    "相似度分析 (similarity analysis)\n",
    "如聚类(clustering) , 好的聚类应该满足同时有高簇内相似性和高簇间差异性。\n",
    "而衡量这些指标，往往依然是依赖于距离度量或者密度度量。最常见的算法有求簇内每个点到簇中心的几何距离的均值\n",
    "\n",
    "异常检测(normality detection)，如iForest等:\n",
    "以异常检测为例，我们假设大量的正常数据都紧密相邻(可以形成多个簇)，而异常值往往和这些正常点有较大的不同。\n",
    "前面提到的iForest和大部分异常检测算法的核心思想都是将异常点隔离(isolate)出去，通过其所在空间的低密度实现。\n",
    "\n",
    "有目標值:\n",
    "\n",
    "可將無監督學習轉成監督式學習 之後便可以如 準確率 的方式評估"
   ]
  },
  {
   "cell_type": "code",
   "execution_count": null,
   "metadata": {
    "collapsed": true
   },
   "outputs": [],
   "source": []
  }
 ],
 "metadata": {
  "kernelspec": {
   "display_name": "Python 3",
   "language": "python",
   "name": "python3"
  },
  "language_info": {
   "codemirror_mode": {
    "name": "ipython",
    "version": 3
   },
   "file_extension": ".py",
   "mimetype": "text/x-python",
   "name": "python",
   "nbconvert_exporter": "python",
   "pygments_lexer": "ipython3",
   "version": "3.7.3"
  }
 },
 "nbformat": 4,
 "nbformat_minor": 1
}
