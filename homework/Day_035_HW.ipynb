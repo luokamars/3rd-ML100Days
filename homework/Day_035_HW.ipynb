{
 "cells": [
  {
   "cell_type": "markdown",
   "metadata": {},
   "source": [
    "## 練習時間\n",
    "相信大家對回歸問題及分類問題都有初步的了解。今天的作業希望大家搜尋有關 multi-label 的案例問題。下圖是電影 \"奇異博士\" 的分類。可以看到同時有 \"Action\", \"Adventure\", \"Fantasy\" 的類別存在，代表這是個多標籤的問題。 "
   ]
  },
  {
   "cell_type": "markdown",
   "metadata": {},
   "source": [
    "![image](https://cdn-images-1.medium.com/max/1000/1*r0gYXMSQf5VhdMyl2bRDyg.png)"
   ]
  },
  {
   "cell_type": "markdown",
   "metadata": {},
   "source": [
    "## 請搜尋目標為多標籤問題 (Multi-label) 的機器學習案例，了解其資料來源、目標以及評估指標為何\n",
    "## Hint: 服飾\n",
    "http://lpis.csd.auth.gr/publications/tsoumakas-ismir08.pdf\n",
    "\n",
    "\n",
    "##音頻分類\n",
    "資料來源:  The dataset used for this work consists of 100 songs from\n",
    "each of the following 7 different genres: Classical, Reggae,\n",
    "Rock, Pop, Hip-Hop, Techno and Jazz. The collection was\n",
    "created from 233 musical albums choosing three songs fromeach album. From each song a period of 30 seconds after the\n",
    "initial 30 seconds was extracted. The resulting sound clips\n",
    "were stored and converted into wave files of 22050 Hz sampling rate, 16-bit per sample and mono. The following subsections present the features that were extracted from each\n",
    "wave file and the emotion labeling process.\n",
    "\n",
    "\n",
    "目標:分類音頻中的情緒\n",
    "L1 amazed-surprised 173\n",
    "L2 happy-pleased 166\n",
    "L3 relaxing-calm 264\n",
    "L4 quiet-still 148\n",
    "L5 sad-lonely 168\n",
    "L6 angry-fearful 189\n",
    "\n",
    "\n",
    "評估指標: \n",
    "Rhythmic Features:\n",
    "BMPs (beats per minute) and the high-to-low ratio of\n",
    "their BPMs,\n",
    "\n",
    "Timbre Features\n",
    "Mel Frequency Cepstral Coefficients (MFCCs) are used for\n",
    "speech recognition and music modeling\n",
    " Short-Term Fourier Transform (FFT):\n",
    "Spectral centroid, spectral rolloff and spectral flux\n",
    "\n"
   ]
  }
 ],
 "metadata": {
  "kernelspec": {
   "display_name": "Python 3",
   "language": "python",
   "name": "python3"
  },
  "language_info": {
   "codemirror_mode": {
    "name": "ipython",
    "version": 3
   },
   "file_extension": ".py",
   "mimetype": "text/x-python",
   "name": "python",
   "nbconvert_exporter": "python",
   "pygments_lexer": "ipython3",
   "version": "3.7.3"
  }
 },
 "nbformat": 4,
 "nbformat_minor": 2
}
